{
 "cells": [
  {
   "cell_type": "markdown",
   "metadata": {
    "collapsed": false
   },
   "source": [
    "Define data. The index_col = 0 indicates that the row names are in the first column.  The function read_excel() assumes that the first row is column names.  price_data.index gives the row names of the data frame price_data."
   ]
  },
  {
   "cell_type": "code",
   "execution_count": 1,
   "metadata": {
    "collapsed": false
   },
   "outputs": [
    {
     "name": "stdout",
     "output_type": "stream",
     "text": [
      "{('Product 1', 'Machine 1'): 0.4, ('Product 1', 'Machine 2'): 0.3, ('Product 2', 'Machine 1'): 0.7, ('Product 2', 'Machine 2'): 0.4}\n",
      "{('Product 1', 'Month 1'): 1000, ('Product 1', 'Month 2'): 1900, ('Product 2', 'Month 1'): 1400, ('Product 2', 'Month 2'): 1300}\n",
      "{('Product 1', 'Month 1'): 55, ('Product 1', 'Month 2'): 12, ('Product 2', 'Month 1'): 65, ('Product 2', 'Month 2'): 32}\n"
     ]
    }
   ],
   "source": [
    "import pandas as pd\n",
    "\n",
    "hours_data = pd.read_excel(\"Manufacturing-Homework.xlsx\", sheet_name=\"Hours\", index_col=0)\n",
    "P = list(hours_data.index)\n",
    "M = list(hours_data)\n",
    "machine_hours = hours_data.stack().to_dict()\n",
    "print(machine_hours)\n",
    "\n",
    "demand_data = pd.read_excel(\"Manufacturing-Homework.xlsx\", sheet_name=\"Demand\", index_col=0)\n",
    "#P = list(demand_data.index)\n",
    "#^do i need this? (since it was identified in previous sheet)\n",
    "T = list(demand_data)\n",
    "demand = demand_data.stack().to_dict()\n",
    "print(demand)\n",
    "\n",
    "price_data = pd.read_excel(\"Manufacturing-Homework.xlsx\", sheet_name=\"Price\", index_col=0)\n",
    "#P = list(demand_data.index)\n",
    "#T = list(price_data)\n",
    "price = price_data.stack().to_dict()\n",
    "print(price)\n",
    "\n"
   ]
  },
  {
   "cell_type": "markdown",
   "metadata": {
    "collapsed": false
   },
   "source": [
    "Import Pyomo and declare a model object."
   ]
  },
  {
   "cell_type": "code",
   "execution_count": 2,
   "metadata": {
    "collapsed": false
   },
   "outputs": [
   ],
   "source": [
    "from pyomo.environ import *\n",
    "\n",
    "model = ConcreteModel()"
   ]
  },
  {
   "cell_type": "markdown",
   "metadata": {
    "collapsed": false
   },
   "source": [
    "Declare nonnegative variables for amount produced each month."
   ]
  },
  {
   "cell_type": "code",
   "execution_count": 3,
   "metadata": {
    "collapsed": false
   },
   "outputs": [
    {
     "name": "stdout",
     "output_type": "stream",
     "text": [
      "Defining variables for first time\n"
     ]
    },
    {
     "name": "stdout",
     "output_type": "stream",
     "text": [
      "5 Set Declarations\n",
      "    x_index : Dim=0, Dimen=3, Size=8, Domain=None, Ordered=False, Bounds=None\n",
      "        Virtual\n",
      "    x_index_0 : Dim=0, Dimen=1, Size=2, Domain=None, Ordered=False, Bounds=None\n",
      "        ['Product 1', 'Product 2']\n",
      "    x_index_1 : Dim=0, Dimen=1, Size=2, Domain=None, Ordered=False, Bounds=None\n",
      "        ['Machine 1', 'Machine 2']\n",
      "    x_index_2 : Dim=0, Dimen=1, Size=2, Domain=None, Ordered=False, Bounds=None\n",
      "        ['Month 1', 'Month 2']\n",
      "    x_index_index_0 : Dim=0, Dimen=2, Size=4, Domain=None, Ordered=False, Bounds=None\n",
      "        Virtual\n",
      "\n",
      "1 Var Declarations\n",
      "    x : Size=8, Index=x_index\n",
      "        Key                                   : Lower : Value : Upper : Fixed : Stale : Domain\n",
      "        ('Product 1', 'Machine 1', 'Month 1') :     0 :  None :  None : False :  True : NonNegativeReals\n",
      "        ('Product 1', 'Machine 1', 'Month 2') :     0 :  None :  None : False :  True : NonNegativeReals\n",
      "        ('Product 1', 'Machine 2', 'Month 1') :     0 :  None :  None : False :  True : NonNegativeReals\n",
      "        ('Product 1', 'Machine 2', 'Month 2') :     0 :  None :  None : False :  True : NonNegativeReals\n",
      "        ('Product 2', 'Machine 1', 'Month 1') :     0 :  None :  None : False :  True : NonNegativeReals\n",
      "        ('Product 2', 'Machine 1', 'Month 2') :     0 :  None :  None : False :  True : NonNegativeReals\n",
      "        ('Product 2', 'Machine 2', 'Month 1') :     0 :  None :  None : False :  True : NonNegativeReals\n",
      "        ('Product 2', 'Machine 2', 'Month 2') :     0 :  None :  None : False :  True : NonNegativeReals\n",
      "\n",
      "6 Declarations: x_index_0 x_index_1 x_index_2 x_index_index_0 x_index x\n"
     ]
    }
   ],
   "source": [
    "try: \n",
    "    model.del_component(model.x)\n",
    "    model.del_component(model.x_index)\n",
    "    model.del_component(model.x_index_0)\n",
    "    model.del_component(model.x_index_1)\n",
    "    model.del_component(model.x_index_2)\n",
    "    model.del_component(model.x_index_index_0)\n",
    "except:\n",
    "    print(\"Defining variables for first time\")\n",
    "model.x = Var(P,M,T,domain=NonNegativeReals)\n",
    "model.pprint()"
   ]
  },
  {
   "cell_type": "markdown",
   "metadata": {
    "collapsed": false
   },
   "source": [
    "Define nonnegative variables for inventory."
   ]
  },
  {
   "cell_type": "code",
   "execution_count": 4,
   "metadata": {
    "collapsed": false
   },
   "outputs": [
    {
     "name": "stdout",
     "output_type": "stream",
     "text": [
      "Defining objective Profit for the first time\n",
      "5 Set Declarations\n",
      "    x_index : Dim=0, Dimen=3, Size=8, Domain=None, Ordered=False, Bounds=None\n",
      "        Virtual\n",
      "    x_index_0 : Dim=0, Dimen=1, Size=2, Domain=None, Ordered=False, Bounds=None\n",
      "        ['Product 1', 'Product 2']\n",
      "    x_index_1 : Dim=0, Dimen=1, Size=2, Domain=None, Ordered=False, Bounds=None\n",
      "        ['Machine 1', 'Machine 2']\n",
      "    x_index_2 : Dim=0, Dimen=1, Size=2, Domain=None, Ordered=False, Bounds=None\n",
      "        ['Month 1', 'Month 2']\n",
      "    x_index_index_0 : Dim=0, Dimen=2, Size=4, Domain=None, Ordered=False, Bounds=None\n",
      "        Virtual\n",
      "\n",
      "1 Var Declarations\n",
      "    x : Size=8, Index=x_index\n",
      "        Key                                   : Lower : Value : Upper : Fixed : Stale : Domain\n",
      "        ('Product 1', 'Machine 1', 'Month 1') :     0 :  None :  None : False :  True : NonNegativeReals\n",
      "        ('Product 1', 'Machine 1', 'Month 2') :     0 :  None :  None : False :  True : NonNegativeReals\n",
      "        ('Product 1', 'Machine 2', 'Month 1') :     0 :  None :  None : False :  True : NonNegativeReals\n",
      "        ('Product 1', 'Machine 2', 'Month 2') :     0 :  None :  None : False :  True : NonNegativeReals\n",
      "        ('Product 2', 'Machine 1', 'Month 1') :     0 :  None :  None : False :  True : NonNegativeReals\n",
      "        ('Product 2', 'Machine 1', 'Month 2') :     0 :  None :  None : False :  True : NonNegativeReals\n",
      "        ('Product 2', 'Machine 2', 'Month 1') :     0 :  None :  None : False :  True : NonNegativeReals\n",
      "        ('Product 2', 'Machine 2', 'Month 2') :     0 :  None :  None : False :  True : NonNegativeReals\n",
      "\n",
      "1 Objective Declarations\n",
      "    Profit : Size=1, Index=None, Active=True\n",
      "        Key  : Active : Sense    : Expression\n",
      "        None :   True : maximize : 55*x[Product 1,Machine 1,Month 1] + 65*x[Product 2,Machine 1,Month 1] + 55*x[Product 1,Machine 2,Month 1] + 65*x[Product 2,Machine 2,Month 1] + 12*x[Product 1,Machine 1,Month 2] + 32*x[Product 2,Machine 1,Month 2] + 12*x[Product 1,Machine 2,Month 2] + 32*x[Product 2,Machine 2,Month 2]\n",
      "\n",
      "7 Declarations: x_index_0 x_index_1 x_index_2 x_index_index_0 x_index x Profit\n"
     ]
    }
   ],
   "source": [
    "try:\n",
    "    model.del_component(model.Profit)\n",
    "except:\n",
    "    print(\"Defining objective Profit for the first time\")\n",
    "model.Profit = Objective(\n",
    "    expr = sum(sum(sum((price[i,k])*model.x[i,j,k] for i in P) for j in M) for k in T),  sense=maximize)\n",
    "model.pprint()"
   ]
  },
  {
   "cell_type": "markdown",
   "metadata": {
    "collapsed": false
   },
   "source": [
    "Define the objective function."
   ]
  },
  {
   "cell_type": "code",
   "execution_count": 5,
   "metadata": {
    "collapsed": false
   },
   "outputs": [
    {
     "name": "stdout",
     "output_type": "stream",
     "text": [
      "Defining demand constraint for the first time\n"
     ]
    }
   ],
   "source": [
    "try:\n",
    "    model.del_component(model.DemandConstraint)\n",
    "    model.del_component(model.DemandConstraint_index)\n",
    "except:\n",
    "    print(\"Defining demand constraint for the first time\")\n",
    "model.DemandConstraint = ConstraintList()\n"
   ]
  },
  {
   "cell_type": "code",
   "execution_count": 6,
   "metadata": {
    "collapsed": false
   },
   "outputs": [
    {
     "name": "stdout",
     "output_type": "stream",
     "text": [
      "6 Set Declarations\n",
      "    DemandConstraint_index : Dim=0, Dimen=1, Size=4, Domain=None, Ordered=False, Bounds=None\n",
      "        [1, 2, 3, 4]\n",
      "    x_index : Dim=0, Dimen=3, Size=8, Domain=None, Ordered=False, Bounds=None\n",
      "        Virtual\n",
      "    x_index_0 : Dim=0, Dimen=1, Size=2, Domain=None, Ordered=False, Bounds=None\n",
      "        ['Product 1', 'Product 2']\n",
      "    x_index_1 : Dim=0, Dimen=1, Size=2, Domain=None, Ordered=False, Bounds=None\n",
      "        ['Machine 1', 'Machine 2']\n",
      "    x_index_2 : Dim=0, Dimen=1, Size=2, Domain=None, Ordered=False, Bounds=None\n",
      "        ['Month 1', 'Month 2']\n",
      "    x_index_index_0 : Dim=0, Dimen=2, Size=4, Domain=None, Ordered=False, Bounds=None\n",
      "        Virtual\n",
      "\n",
      "1 Var Declarations\n",
      "    x : Size=8, Index=x_index\n",
      "        Key                                   : Lower : Value : Upper : Fixed : Stale : Domain\n",
      "        ('Product 1', 'Machine 1', 'Month 1') :     0 :  None :  None : False :  True : NonNegativeReals\n",
      "        ('Product 1', 'Machine 1', 'Month 2') :     0 :  None :  None : False :  True : NonNegativeReals\n",
      "        ('Product 1', 'Machine 2', 'Month 1') :     0 :  None :  None : False :  True : NonNegativeReals\n",
      "        ('Product 1', 'Machine 2', 'Month 2') :     0 :  None :  None : False :  True : NonNegativeReals\n",
      "        ('Product 2', 'Machine 1', 'Month 1') :     0 :  None :  None : False :  True : NonNegativeReals\n",
      "        ('Product 2', 'Machine 1', 'Month 2') :     0 :  None :  None : False :  True : NonNegativeReals\n",
      "        ('Product 2', 'Machine 2', 'Month 1') :     0 :  None :  None : False :  True : NonNegativeReals\n",
      "        ('Product 2', 'Machine 2', 'Month 2') :     0 :  None :  None : False :  True : NonNegativeReals\n",
      "\n",
      "1 Objective Declarations\n",
      "    Profit : Size=1, Index=None, Active=True\n",
      "        Key  : Active : Sense    : Expression\n",
      "        None :   True : maximize : 55*x[Product 1,Machine 1,Month 1] + 65*x[Product 2,Machine 1,Month 1] + 55*x[Product 1,Machine 2,Month 1] + 65*x[Product 2,Machine 2,Month 1] + 12*x[Product 1,Machine 1,Month 2] + 32*x[Product 2,Machine 1,Month 2] + 12*x[Product 1,Machine 2,Month 2] + 32*x[Product 2,Machine 2,Month 2]\n",
      "\n",
      "1 Constraint Declarations\n",
      "    DemandConstraint : Size=4, Index=DemandConstraint_index, Active=True\n",
      "        Key : Lower  : Body                                                            : Upper : Active\n",
      "          1 : 1000.0 : x[Product 1,Machine 1,Month 1] + x[Product 1,Machine 2,Month 1] :  +Inf :   True\n",
      "          2 : 1900.0 : x[Product 1,Machine 1,Month 2] + x[Product 1,Machine 2,Month 2] :  +Inf :   True\n",
      "          3 : 1400.0 : x[Product 2,Machine 1,Month 1] + x[Product 2,Machine 2,Month 1] :  +Inf :   True\n",
      "          4 : 1300.0 : x[Product 2,Machine 1,Month 2] + x[Product 2,Machine 2,Month 2] :  +Inf :   True\n",
      "\n",
      "9 Declarations: x_index_0 x_index_1 x_index_2 x_index_index_0 x_index x Profit DemandConstraint_index DemandConstraint\n"
     ]
    }
   ],
   "source": [
    "for i in P:\n",
    "    for k in T:\n",
    "        model.DemandConstraint.add(sum(model.x[i,j,k] for j in M) >= demand[i,k])\n",
    "model.pprint()"
   ]
  },
  {
   "cell_type": "markdown",
   "metadata": {
    "collapsed": false
   },
   "source": [
    "Specify the inventory balance constraints."
   ]
  },
  {
   "cell_type": "code",
   "execution_count": 7,
   "metadata": {
    "collapsed": false
   },
   "outputs": [
    {
     "name": "stdout",
     "output_type": "stream",
     "text": [
      "Defining hours constraint for the first time\n"
     ]
    }
   ],
   "source": [
    "try:\n",
    "    model.del_component(model.HoursConstraint)\n",
    "    model.del_component(model.HoursConstraint_index)\n",
    "except:\n",
    "    print(\"Defining hours constraint for the first time\")\n",
    "model.HoursConstraint = ConstraintList()\n"
   ]
  },
  {
   "cell_type": "code",
   "execution_count": 8,
   "metadata": {
    "collapsed": false
   },
   "outputs": [
    {
     "name": "stdout",
     "output_type": "stream",
     "text": [
      "7 Set Declarations\n",
      "    DemandConstraint_index : Dim=0, Dimen=1, Size=8, Domain=None, Ordered=False, Bounds=None\n",
      "        [1, 2, 3, 4, 5, 6, 7, 8]\n",
      "    HoursConstraint_index : Dim=0, Dimen=1, Size=0, Domain=None, Ordered=False, Bounds=None\n",
      "        []\n",
      "    x_index : Dim=0, Dimen=3, Size=8, Domain=None, Ordered=False, Bounds=None\n",
      "        Virtual\n",
      "    x_index_0 : Dim=0, Dimen=1, Size=2, Domain=None, Ordered=False, Bounds=None\n",
      "        ['Product 1', 'Product 2']\n",
      "    x_index_1 : Dim=0, Dimen=1, Size=2, Domain=None, Ordered=False, Bounds=None\n",
      "        ['Machine 1', 'Machine 2']\n",
      "    x_index_2 : Dim=0, Dimen=1, Size=2, Domain=None, Ordered=False, Bounds=None\n",
      "        ['Month 1', 'Month 2']\n",
      "    x_index_index_0 : Dim=0, Dimen=2, Size=4, Domain=None, Ordered=False, Bounds=None\n",
      "        Virtual\n",
      "\n",
      "1 Var Declarations\n",
      "    x : Size=8, Index=x_index\n",
      "        Key                                   : Lower : Value : Upper : Fixed : Stale : Domain\n",
      "        ('Product 1', 'Machine 1', 'Month 1') :     0 :  None :  None : False :  True : NonNegativeReals\n",
      "        ('Product 1', 'Machine 1', 'Month 2') :     0 :  None :  None : False :  True : NonNegativeReals\n",
      "        ('Product 1', 'Machine 2', 'Month 1') :     0 :  None :  None : False :  True : NonNegativeReals\n",
      "        ('Product 1', 'Machine 2', 'Month 2') :     0 :  None :  None : False :  True : NonNegativeReals\n",
      "        ('Product 2', 'Machine 1', 'Month 1') :     0 :  None :  None : False :  True : NonNegativeReals\n",
      "        ('Product 2', 'Machine 1', 'Month 2') :     0 :  None :  None : False :  True : NonNegativeReals\n",
      "        ('Product 2', 'Machine 2', 'Month 1') :     0 :  None :  None : False :  True : NonNegativeReals\n",
      "        ('Product 2', 'Machine 2', 'Month 2') :     0 :  None :  None : False :  True : NonNegativeReals\n",
      "\n",
      "1 Objective Declarations\n",
      "    Profit : Size=1, Index=None, Active=True\n",
      "        Key  : Active : Sense    : Expression\n",
      "        None :   True : maximize : 55*x[Product 1,Machine 1,Month 1] + 65*x[Product 2,Machine 1,Month 1] + 55*x[Product 1,Machine 2,Month 1] + 65*x[Product 2,Machine 2,Month 1] + 12*x[Product 1,Machine 1,Month 2] + 32*x[Product 2,Machine 1,Month 2] + 12*x[Product 1,Machine 2,Month 2] + 32*x[Product 2,Machine 2,Month 2]\n",
      "\n",
      "2 Constraint Declarations\n",
      "    DemandConstraint : Size=8, Index=DemandConstraint_index, Active=True\n",
      "        Key : Lower  : Body                                                                    : Upper : Active\n",
      "          1 : 1000.0 :         x[Product 1,Machine 1,Month 1] + x[Product 1,Machine 2,Month 1] :  +Inf :   True\n",
      "          2 : 1900.0 :         x[Product 1,Machine 1,Month 2] + x[Product 1,Machine 2,Month 2] :  +Inf :   True\n",
      "          3 : 1400.0 :         x[Product 2,Machine 1,Month 1] + x[Product 2,Machine 2,Month 1] :  +Inf :   True\n",
      "          4 : 1300.0 :         x[Product 2,Machine 1,Month 2] + x[Product 2,Machine 2,Month 2] :  +Inf :   True\n",
      "          5 :  500.0 : 0.4*x[Product 1,Machine 1,Month 1] + 0.7*x[Product 2,Machine 1,Month 1] :  +Inf :   True\n",
      "          6 :  500.0 : 0.4*x[Product 1,Machine 1,Month 2] + 0.7*x[Product 2,Machine 1,Month 2] :  +Inf :   True\n",
      "          7 :  500.0 : 0.3*x[Product 1,Machine 2,Month 1] + 0.4*x[Product 2,Machine 2,Month 1] :  +Inf :   True\n",
      "          8 :  500.0 : 0.3*x[Product 1,Machine 2,Month 2] + 0.4*x[Product 2,Machine 2,Month 2] :  +Inf :   True\n",
      "    HoursConstraint : Size=0, Index=HoursConstraint_index, Active=True\n",
      "        Key : Lower : Body : Upper : Active\n",
      "\n",
      "11 Declarations: x_index_0 x_index_1 x_index_2 x_index_index_0 x_index x Profit DemandConstraint_index DemandConstraint HoursConstraint_index HoursConstraint\n"
     ]
    }
   ],
   "source": [
    "for j in M:\n",
    "    for k in T:\n",
    "        model.DemandConstraint.add(sum(machine_hours[i,j]*model.x[i,j,k] for i in P) >= 500)\n",
    "model.pprint()"
   ]
  },
  {
   "cell_type": "markdown",
   "metadata": {
    "collapsed": false
   },
   "source": [
    "Specify solver and solve.\n"
   ]
  },
  {
   "cell_type": "code",
   "execution_count": 9,
   "metadata": {
    "collapsed": false
   },
   "outputs": [
   ],
   "source": [
    "solver = SolverFactory('glpk')\n",
    "status = solver.solve(model)"
   ]
  },
  {
   "cell_type": "markdown",
   "metadata": {
    "collapsed": false
   },
   "source": [
    "Get status."
   ]
  },
  {
   "cell_type": "code",
   "execution_count": 10,
   "metadata": {
    "collapsed": false
   },
   "outputs": [
    {
     "name": "stdout",
     "output_type": "stream",
     "text": [
      "Status = \n",
      "Problem: \n",
      "- Name: unknown\n",
      "  Lower bound: -inf\n",
      "  Upper bound: inf\n",
      "  Number of objectives: 1\n",
      "  Number of constraints: 9\n",
      "  Number of variables: 9\n",
      "  Number of nonzeros: 17\n",
      "  Sense: maximize\n",
      "Solver: \n",
      "- Status: ok\n",
      "  Termination condition: other\n",
      "  Statistics: \n",
      "    Branch and bound: \n",
      "      Number of bounded subproblems: 0\n",
      "      Number of created subproblems: 0\n",
      "  Error rc: 0\n",
      "  Time: 0.02299666404724121\n",
      "\n"
     ]
    }
   ],
   "source": [
    "print('Status = %s' % status)"
   ]
  },
  {
   "cell_type": "markdown",
   "metadata": {
    "collapsed": false
   },
   "source": [
    "Get solution and objective function value."
   ]
  },
  {
   "cell_type": "code",
   "execution_count": 0,
   "metadata": {
    "collapsed": false
   },
   "outputs": [
   ],
   "source": [
   ]
  },
  {
   "cell_type": "code",
   "execution_count": 19,
   "metadata": {
    "collapsed": false
   },
   "outputs": [
    {
     "ename": "KeyError",
     "evalue": "\"Index '('Product 1', 'Month 1')' is not valid for indexed component 'x'\"",
     "output_type": "error",
     "traceback": [
      "\u001b[0;31m---------------------------------------------------------------------------\u001b[0m",
      "\u001b[0;31mKeyError\u001b[0m                                  Traceback (most recent call last)",
      "\u001b[0;32m<ipython-input-19-29a06527f69a>\u001b[0m in \u001b[0;36m<module>\u001b[0;34m\u001b[0m\n\u001b[1;32m      1\u001b[0m \u001b[0;32mfor\u001b[0m \u001b[0mi\u001b[0m \u001b[0;32min\u001b[0m \u001b[0mP\u001b[0m\u001b[0;34m:\u001b[0m\u001b[0;34m\u001b[0m\u001b[0;34m\u001b[0m\u001b[0m\n\u001b[1;32m      2\u001b[0m     \u001b[0;32mfor\u001b[0m \u001b[0mk\u001b[0m \u001b[0;32min\u001b[0m \u001b[0mT\u001b[0m\u001b[0;34m:\u001b[0m\u001b[0;34m\u001b[0m\u001b[0;34m\u001b[0m\u001b[0m\n\u001b[0;32m----> 3\u001b[0;31m         \u001b[0mprint\u001b[0m\u001b[0;34m(\u001b[0m\u001b[0;34m'%s = %f'\u001b[0m \u001b[0;34m%\u001b[0m \u001b[0;34m(\u001b[0m\u001b[0mmodel\u001b[0m\u001b[0;34m.\u001b[0m\u001b[0mx\u001b[0m\u001b[0;34m[\u001b[0m\u001b[0mi\u001b[0m\u001b[0;34m,\u001b[0m\u001b[0mk\u001b[0m\u001b[0;34m]\u001b[0m\u001b[0;34m,\u001b[0m \u001b[0mvalue\u001b[0m\u001b[0;34m(\u001b[0m\u001b[0mmodel\u001b[0m\u001b[0;34m.\u001b[0m\u001b[0mx\u001b[0m\u001b[0;34m[\u001b[0m\u001b[0mi\u001b[0m\u001b[0;34m,\u001b[0m\u001b[0mk\u001b[0m\u001b[0;34m]\u001b[0m\u001b[0;34m)\u001b[0m\u001b[0;34m)\u001b[0m\u001b[0;34m)\u001b[0m\u001b[0;34m\u001b[0m\u001b[0;34m\u001b[0m\u001b[0m\n\u001b[0m\u001b[1;32m      4\u001b[0m \u001b[0mprint\u001b[0m\u001b[0;34m(\u001b[0m\u001b[0;34m\"Objective = %f\"\u001b[0m \u001b[0;34m%\u001b[0m \u001b[0mvalue\u001b[0m\u001b[0;34m(\u001b[0m\u001b[0mmodel\u001b[0m\u001b[0;34m.\u001b[0m\u001b[0mProfit\u001b[0m\u001b[0;34m)\u001b[0m\u001b[0;34m)\u001b[0m\u001b[0;34m\u001b[0m\u001b[0;34m\u001b[0m\u001b[0m\n",
      "\u001b[0;32m/usr/local/lib/python3.6/dist-packages/pyomo/core/base/indexed_component.py\u001b[0m in \u001b[0;36m__getitem__\u001b[0;34m(self, index)\u001b[0m\n\u001b[1;32m    399\u001b[0m             \u001b[0;32mif\u001b[0m \u001b[0mindex\u001b[0m\u001b[0;34m.\u001b[0m\u001b[0m__class__\u001b[0m \u001b[0;32mis\u001b[0m \u001b[0mEXPR\u001b[0m\u001b[0;34m.\u001b[0m\u001b[0mGetItemExpression\u001b[0m\u001b[0;34m:\u001b[0m\u001b[0;34m\u001b[0m\u001b[0;34m\u001b[0m\u001b[0m\n\u001b[1;32m    400\u001b[0m                 \u001b[0;32mreturn\u001b[0m \u001b[0mindex\u001b[0m\u001b[0;34m\u001b[0m\u001b[0;34m\u001b[0m\u001b[0m\n\u001b[0;32m--> 401\u001b[0;31m             \u001b[0mvalidated_index\u001b[0m \u001b[0;34m=\u001b[0m \u001b[0mself\u001b[0m\u001b[0;34m.\u001b[0m\u001b[0m_validate_index\u001b[0m\u001b[0;34m(\u001b[0m\u001b[0mindex\u001b[0m\u001b[0;34m)\u001b[0m\u001b[0;34m\u001b[0m\u001b[0;34m\u001b[0m\u001b[0m\n\u001b[0m\u001b[1;32m    402\u001b[0m             \u001b[0;32mif\u001b[0m \u001b[0mvalidated_index\u001b[0m \u001b[0;32mis\u001b[0m \u001b[0;32mnot\u001b[0m \u001b[0mindex\u001b[0m\u001b[0;34m:\u001b[0m\u001b[0;34m\u001b[0m\u001b[0;34m\u001b[0m\u001b[0m\n\u001b[1;32m    403\u001b[0m                 \u001b[0mindex\u001b[0m \u001b[0;34m=\u001b[0m \u001b[0mvalidated_index\u001b[0m\u001b[0;34m\u001b[0m\u001b[0;34m\u001b[0m\u001b[0m\n",
      "\u001b[0;32m/usr/local/lib/python3.6/dist-packages/pyomo/core/base/indexed_component.py\u001b[0m in \u001b[0;36m_validate_index\u001b[0;34m(self, idx)\u001b[0m\n\u001b[1;32m    559\u001b[0m         raise KeyError(\n\u001b[1;32m    560\u001b[0m             \u001b[0;34m\"Index '%s' is not valid for indexed component '%s'\"\u001b[0m\u001b[0;34m\u001b[0m\u001b[0;34m\u001b[0m\u001b[0m\n\u001b[0;32m--> 561\u001b[0;31m             % ( idx, self.name, ))\n\u001b[0m\u001b[1;32m    562\u001b[0m \u001b[0;34m\u001b[0m\u001b[0m\n\u001b[1;32m    563\u001b[0m     \u001b[0;32mdef\u001b[0m \u001b[0m_processUnhashableIndex\u001b[0m\u001b[0;34m(\u001b[0m\u001b[0mself\u001b[0m\u001b[0;34m,\u001b[0m \u001b[0midx\u001b[0m\u001b[0;34m)\u001b[0m\u001b[0;34m:\u001b[0m\u001b[0;34m\u001b[0m\u001b[0;34m\u001b[0m\u001b[0m\n",
      "\u001b[0;31mKeyError\u001b[0m: \"Index '('Product 1', 'Month 1')' is not valid for indexed component 'x'\""
     ]
    },
    {
     "ename": "ValueError",
     "evalue": "No value for uninitialized NumericValue object x[Product 1,Machine 1,Month 1]",
     "output_type": "error",
     "traceback": [
      "\u001b[0;31m---------------------------------------------------------------------------\u001b[0m",
      "\u001b[0;31mValueError\u001b[0m                                Traceback (most recent call last)",
      "\u001b[0;32m<ipython-input-18-6a4eafc7e971>\u001b[0m in \u001b[0;36m<module>\u001b[0;34m\u001b[0m\n\u001b[1;32m      2\u001b[0m     \u001b[0;32mfor\u001b[0m \u001b[0mk\u001b[0m \u001b[0;32min\u001b[0m \u001b[0mT\u001b[0m\u001b[0;34m:\u001b[0m\u001b[0;34m\u001b[0m\u001b[0;34m\u001b[0m\u001b[0m\n\u001b[1;32m      3\u001b[0m         \u001b[0;32mfor\u001b[0m \u001b[0mj\u001b[0m \u001b[0;32min\u001b[0m \u001b[0mM\u001b[0m\u001b[0;34m:\u001b[0m\u001b[0;34m\u001b[0m\u001b[0;34m\u001b[0m\u001b[0m\n\u001b[0;32m----> 4\u001b[0;31m             \u001b[0mprint\u001b[0m\u001b[0;34m(\u001b[0m\u001b[0;34m'%s = %f'\u001b[0m \u001b[0;34m%\u001b[0m \u001b[0;34m(\u001b[0m\u001b[0mmodel\u001b[0m\u001b[0;34m.\u001b[0m\u001b[0mx\u001b[0m\u001b[0;34m[\u001b[0m\u001b[0mi\u001b[0m\u001b[0;34m,\u001b[0m\u001b[0mj\u001b[0m\u001b[0;34m,\u001b[0m\u001b[0mk\u001b[0m\u001b[0;34m]\u001b[0m\u001b[0;34m,\u001b[0m \u001b[0mvalue\u001b[0m\u001b[0;34m(\u001b[0m\u001b[0mmodel\u001b[0m\u001b[0;34m.\u001b[0m\u001b[0mx\u001b[0m\u001b[0;34m[\u001b[0m\u001b[0mi\u001b[0m\u001b[0;34m,\u001b[0m\u001b[0mj\u001b[0m\u001b[0;34m,\u001b[0m\u001b[0mk\u001b[0m\u001b[0;34m]\u001b[0m\u001b[0;34m)\u001b[0m\u001b[0;34m)\u001b[0m\u001b[0;34m)\u001b[0m\u001b[0;34m\u001b[0m\u001b[0;34m\u001b[0m\u001b[0m\n\u001b[0m\u001b[1;32m      5\u001b[0m \u001b[0mprint\u001b[0m\u001b[0;34m(\u001b[0m\u001b[0;34m\"Objective = %f\"\u001b[0m \u001b[0;34m%\u001b[0m \u001b[0mvalue\u001b[0m\u001b[0;34m(\u001b[0m\u001b[0mmodel\u001b[0m\u001b[0;34m.\u001b[0m\u001b[0mProfit\u001b[0m\u001b[0;34m)\u001b[0m\u001b[0;34m)\u001b[0m\u001b[0;34m\u001b[0m\u001b[0;34m\u001b[0m\u001b[0m\n",
      "\u001b[0;32m/usr/local/lib/python3.6/dist-packages/pyomo/core/expr/numvalue.py\u001b[0m in \u001b[0;36mvalue\u001b[0;34m(obj, exception)\u001b[0m\n\u001b[1;32m    228\u001b[0m                 raise ValueError(\n\u001b[1;32m    229\u001b[0m                     \u001b[0;34m\"No value for uninitialized NumericValue object %s\"\u001b[0m\u001b[0;34m\u001b[0m\u001b[0;34m\u001b[0m\u001b[0m\n\u001b[0;32m--> 230\u001b[0;31m                     % (obj.name,))\n\u001b[0m\u001b[1;32m    231\u001b[0m             \u001b[0;32mreturn\u001b[0m \u001b[0mtmp\u001b[0m\u001b[0;34m\u001b[0m\u001b[0;34m\u001b[0m\u001b[0m\n\u001b[1;32m    232\u001b[0m         \u001b[0;32mexcept\u001b[0m \u001b[0mTemplateExpressionError\u001b[0m\u001b[0;34m:\u001b[0m\u001b[0;34m\u001b[0m\u001b[0;34m\u001b[0m\u001b[0m\n",
      "\u001b[0;31mValueError\u001b[0m: No value for uninitialized NumericValue object x[Product 1,Machine 1,Month 1]"
     ]
    }
   ],
   "source": [
    "for i in P:\n",
    "    for k in T:\n",
    "        for j in M:\n",
    "            print('%s = %f' % (model.x[i,j,k], value(model.x[i,j,k])))\n",
    "print(\"Objective = %f\" % value(model.Profit))"
   ]
  },
  {
   "cell_type": "markdown",
   "metadata": {
    "collapsed": false
   },
   "source": [
    "The optimal solution is to produce 1150 units in month 1 and 1700 in month 3.  Hold 650 in inventory after month 1, and hold 700 in inventory after month 3.  The total cost is $152500."
   ]
  },
  {
   "cell_type": "code",
   "execution_count": 0,
   "metadata": {
    "collapsed": false
   },
   "outputs": [
   ],
   "source": [
   ]
  }
 ],
 "metadata": {
  "kernelspec": {
   "display_name": "Python 3 (system-wide)",
   "language": "python",
   "metadata": {
    "cocalc": {
     "description": "Python 3 programming language",
     "priority": 100,
     "url": "https://www.python.org/"
    }
   },
   "name": "python3"
  },
  "language_info": {
   "codemirror_mode": {
    "name": "ipython",
    "version": 3
   },
   "file_extension": ".py",
   "mimetype": "text/x-python",
   "name": "python",
   "nbconvert_exporter": "python",
   "pygments_lexer": "ipython3",
   "version": "3.6.9"
  }
 },
 "nbformat": 4,
 "nbformat_minor": 0
}